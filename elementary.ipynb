{
 "cells": [
  {
   "cell_type": "code",
   "execution_count": 3,
   "id": "e8e80e51-240a-4e85-91e8-201292f19c3c",
   "metadata": {},
   "outputs": [
    {
     "name": "stdout",
     "output_type": "stream",
     "text": [
      "life is too short you need python\n"
     ]
    }
   ],
   "source": [
    "multiline = \"\"\"life is too short you need python\"\"\"\n",
    "print(multiline)"
   ]
  },
  {
   "cell_type": "code",
   "execution_count": 6,
   "id": "915795a9-6f3e-4f85-8aa8-f44b3ad62ed0",
   "metadata": {},
   "outputs": [
    {
     "data": {
      "text/plain": [
       "'나의 이름은 이현열이며, 1987년에 태어났습니다.'"
      ]
     },
     "execution_count": 6,
     "metadata": {},
     "output_type": "execute_result"
    }
   ],
   "source": [
    "name = '이현열'\n",
    "birth = '1987'\n",
    "\n",
    "f'나의 이름은 {name}이며, {birth}년에 태어났습니다.'"
   ]
  },
  {
   "cell_type": "code",
   "execution_count": 8,
   "id": "968e85c6-cb04-4cef-923f-9f998ea89674",
   "metadata": {},
   "outputs": [
    {
     "data": {
      "text/plain": [
       "'qua'"
      ]
     },
     "execution_count": 8,
     "metadata": {},
     "output_type": "execute_result"
    }
   ],
   "source": [
    "var = 'quant'\n",
    "var[2]\n",
    "var[0:3]"
   ]
  },
  {
   "cell_type": "code",
   "execution_count": 9,
   "id": "40ae0e3a-6e23-4278-a73e-ffd0bd0465cc",
   "metadata": {},
   "outputs": [
    {
     "name": "stdout",
     "output_type": "stream",
     "text": [
      "[1, 2, 3, 4]\n"
     ]
    }
   ],
   "source": [
    "var= [1,2,3]\n",
    "var.append(4)\n",
    "print(var)"
   ]
  },
  {
   "cell_type": "code",
   "execution_count": 10,
   "id": "70cfc3ef-668e-42f1-8e76-c7720ab697a2",
   "metadata": {},
   "outputs": [
    {
     "name": "stdout",
     "output_type": "stream",
     "text": [
      "[2, 3, 1, 2, 3]\n"
     ]
    }
   ],
   "source": [
    "var=[1,2,3,1,2,3]\n",
    "var.remove(1)\n",
    "print(var)"
   ]
  },
  {
   "cell_type": "code",
   "execution_count": 12,
   "id": "993a58e8-467e-446f-bcb1-723afb89933f",
   "metadata": {
    "scrolled": true
   },
   "outputs": [
    {
     "name": "stdout",
     "output_type": "stream",
     "text": [
      "[1, 2, 3, 4]\n"
     ]
    }
   ],
   "source": [
    "var = [2,4,1,3]\n",
    "var.sort()\n",
    "print(var)"
   ]
  },
  {
   "cell_type": "markdown",
   "id": "01d704c9-406d-4732-9a94-e170466684e7",
   "metadata": {},
   "source": [
    "## 튜플\n",
    "튜플 자료형은 리스트와 매우 흡사"
   ]
  },
  {
   "cell_type": "code",
   "execution_count": 13,
   "id": "e5daa185-c8fb-4dd6-b14a-d571b4026b7e",
   "metadata": {},
   "outputs": [
    {
     "data": {
      "text/plain": [
       "tuple"
      ]
     },
     "execution_count": 13,
     "metadata": {},
     "output_type": "execute_result"
    }
   ],
   "source": [
    "var = ()\n",
    "type(var)"
   ]
  },
  {
   "cell_type": "code",
   "execution_count": 16,
   "id": "100a1ae6-1e1d-4526-9e27-f4cf377729c1",
   "metadata": {},
   "outputs": [
    {
     "data": {
      "text/plain": [
       "1"
      ]
     },
     "execution_count": 16,
     "metadata": {},
     "output_type": "execute_result"
    }
   ],
   "source": [
    "var = (1,2)\n",
    "var[0]"
   ]
  },
  {
   "cell_type": "code",
   "execution_count": 17,
   "id": "3a78f575-a5e9-42c6-a708-ed1b70c8175d",
   "metadata": {},
   "outputs": [
    {
     "name": "stdout",
     "output_type": "stream",
     "text": [
      "{'key1': 1, 'key2': 2}\n"
     ]
    }
   ],
   "source": [
    "var = {'key1':1, 'key2':2}\n",
    "print(var)"
   ]
  },
  {
   "cell_type": "code",
   "execution_count": 20,
   "id": "f99d0fe6-b2f7-4964-aa88-a7f1d90ad954",
   "metadata": {},
   "outputs": [
    {
     "data": {
      "text/plain": [
       "1"
      ]
     },
     "execution_count": 20,
     "metadata": {},
     "output_type": "execute_result"
    }
   ],
   "source": [
    "var['key1']"
   ]
  },
  {
   "cell_type": "code",
   "execution_count": 21,
   "id": "57d19077-7c9a-4725-8871-a205aa8ab7f2",
   "metadata": {},
   "outputs": [
    {
     "name": "stdout",
     "output_type": "stream",
     "text": [
      "{'key1': 1, 'key2': 2, 'key3': 3}\n"
     ]
    }
   ],
   "source": [
    "var = {'key1':1, 'key2':2}\n",
    "var['key3'] = 3\n",
    "print(var)"
   ]
  },
  {
   "cell_type": "code",
   "execution_count": 22,
   "id": "9bcee2be-a309-48dc-85e8-1af3f6b75cbb",
   "metadata": {},
   "outputs": [
    {
     "name": "stdout",
     "output_type": "stream",
     "text": [
      "{'key2': 2, 'key3': 3}\n"
     ]
    }
   ],
   "source": [
    "del var['key1']\n",
    "print(var)"
   ]
  },
  {
   "cell_type": "code",
   "execution_count": 23,
   "id": "fa14c582-c03b-4c2b-84da-7583e13b54f8",
   "metadata": {},
   "outputs": [
    {
     "data": {
      "text/plain": [
       "dict_keys(['key2', 'key3'])"
      ]
     },
     "execution_count": 23,
     "metadata": {},
     "output_type": "execute_result"
    }
   ],
   "source": [
    "var.keys()"
   ]
  },
  {
   "cell_type": "code",
   "execution_count": 24,
   "id": "cdc83ca6-9091-4d0e-9a3a-143bd2554cd5",
   "metadata": {},
   "outputs": [
    {
     "data": {
      "text/plain": [
       "['key2', 'key3']"
      ]
     },
     "execution_count": 24,
     "metadata": {},
     "output_type": "execute_result"
    }
   ],
   "source": [
    "list(var.keys())"
   ]
  },
  {
   "cell_type": "code",
   "execution_count": 25,
   "id": "44ca6a1c-04bd-4933-8123-1ffeb8271da6",
   "metadata": {},
   "outputs": [
    {
     "data": {
      "text/plain": [
       "dict_values([2, 3])"
      ]
     },
     "execution_count": 25,
     "metadata": {},
     "output_type": "execute_result"
    }
   ],
   "source": [
    "var.values()"
   ]
  },
  {
   "cell_type": "code",
   "execution_count": 26,
   "id": "cfec8371-58f7-4990-99b7-3216fefb5093",
   "metadata": {},
   "outputs": [
    {
     "name": "stdout",
     "output_type": "stream",
     "text": [
      "{1, 2, 3}\n"
     ]
    }
   ],
   "source": [
    "set1 = set([1,2,3])\n",
    "print(set1)"
   ]
  },
  {
   "cell_type": "code",
   "execution_count": 28,
   "id": "2f6c465a-046c-48fa-b662-f2159aca0965",
   "metadata": {},
   "outputs": [
    {
     "name": "stdout",
     "output_type": "stream",
     "text": [
      "{'n', 'b', 'a'}\n"
     ]
    }
   ],
   "source": [
    "set2 = set('banana')\n",
    "print(set2)\n",
    "# 중복을 허용하지 않음"
   ]
  },
  {
   "cell_type": "code",
   "execution_count": 29,
   "id": "9eed319c-44ac-44ba-98ed-6b89901effc7",
   "metadata": {},
   "outputs": [
    {
     "data": {
      "text/plain": [
       "{1, 2, 3, 4, 5, 6}"
      ]
     },
     "execution_count": 29,
     "metadata": {},
     "output_type": "execute_result"
    }
   ],
   "source": [
    "s1 = set([1,2,3,4])\n",
    "s2 = set([3,4,5,6])\n",
    "\n",
    "s1.union(s2)"
   ]
  },
  {
   "cell_type": "code",
   "execution_count": 30,
   "id": "88041e6d-cb65-4434-81a7-09f23990b6f7",
   "metadata": {},
   "outputs": [
    {
     "data": {
      "text/plain": [
       "{3, 4}"
      ]
     },
     "execution_count": 30,
     "metadata": {},
     "output_type": "execute_result"
    }
   ],
   "source": [
    "s1.intersection(s2)"
   ]
  },
  {
   "cell_type": "code",
   "execution_count": 31,
   "id": "3370af93-6f2b-4b74-8734-254143a9e22a",
   "metadata": {},
   "outputs": [
    {
     "data": {
      "text/plain": [
       "datetime.datetime(2024, 2, 21, 12, 27, 31, 397478)"
      ]
     },
     "execution_count": 31,
     "metadata": {},
     "output_type": "execute_result"
    }
   ],
   "source": [
    "#날짜와 시간\n",
    "\n",
    "import datetime\n",
    "\n",
    "var = datetime.datetime.now()\n",
    "var"
   ]
  },
  {
   "cell_type": "code",
   "execution_count": 32,
   "id": "3acb5261-ccb1-4503-891a-4d169deecc37",
   "metadata": {},
   "outputs": [
    {
     "data": {
      "text/plain": [
       "datetime.datetime"
      ]
     },
     "execution_count": 32,
     "metadata": {},
     "output_type": "execute_result"
    }
   ],
   "source": [
    "type(var)"
   ]
  },
  {
   "cell_type": "code",
   "execution_count": 33,
   "id": "be0efa0b-f91d-445c-a5e8-6242f90dff8c",
   "metadata": {},
   "outputs": [
    {
     "name": "stdout",
     "output_type": "stream",
     "text": [
      "2024\n"
     ]
    }
   ],
   "source": [
    "print(var.year)"
   ]
  },
  {
   "cell_type": "code",
   "execution_count": 35,
   "id": "224d8a6f-6551-4fc1-a82c-c0bc56232691",
   "metadata": {},
   "outputs": [
    {
     "data": {
      "text/plain": [
       "datetime.date(2024, 2, 21)"
      ]
     },
     "execution_count": 35,
     "metadata": {},
     "output_type": "execute_result"
    }
   ],
   "source": [
    "var.date()"
   ]
  },
  {
   "cell_type": "code",
   "execution_count": 36,
   "id": "63fdc772-5c40-49c3-a96a-b0db2ba13460",
   "metadata": {},
   "outputs": [
    {
     "data": {
      "text/plain": [
       "'Sat 31 Dec 22'"
      ]
     },
     "execution_count": 36,
     "metadata": {},
     "output_type": "execute_result"
    }
   ],
   "source": [
    "t = datetime.datetime(2022,12,31,11,59,59)\n",
    "t.strftime(\"%a %d %b %y\")"
   ]
  },
  {
   "cell_type": "code",
   "execution_count": 37,
   "id": "e8369afe-8e36-4240-a6b8-81abc8605a0c",
   "metadata": {},
   "outputs": [
    {
     "data": {
      "text/plain": [
       "datetime.timedelta(days=365)"
      ]
     },
     "execution_count": 37,
     "metadata": {},
     "output_type": "execute_result"
    }
   ],
   "source": [
    "dt1 = datetime.datetime(2022,12,31)\n",
    "dt2 = datetime.datetime(2021,12,31)\n",
    "td = dt1 - dt2 \n",
    "td"
   ]
  },
  {
   "cell_type": "code",
   "execution_count": 38,
   "id": "be8295ff-5402-4a89-9e04-cef40c0e3261",
   "metadata": {},
   "outputs": [
    {
     "data": {
      "text/plain": [
       "datetime.datetime(2023, 1, 31, 0, 0)"
      ]
     },
     "execution_count": 38,
     "metadata": {},
     "output_type": "execute_result"
    }
   ],
   "source": [
    "from dateutil.relativedelta import relativedelta\n",
    "dt1 + relativedelta(months = 1)"
   ]
  },
  {
   "cell_type": "code",
   "execution_count": 39,
   "id": "33a522d3-b023-4b6b-815f-4ca7a4c59b6f",
   "metadata": {},
   "outputs": [
    {
     "name": "stdout",
     "output_type": "stream",
     "text": [
      "0\n",
      "2024-02-21 12:30:15.525238\n",
      "------\n",
      "1\n",
      "2024-02-21 12:30:17.527357\n",
      "------\n",
      "2\n",
      "2024-02-21 12:30:19.541952\n",
      "------\n"
     ]
    }
   ],
   "source": [
    "import datetime \n",
    "import time\n",
    "\n",
    "for i in range(3):\n",
    "    print(i)\n",
    "    print(datetime.datetime.now())\n",
    "    print('------')\n",
    "    time.sleep(2)"
   ]
  },
  {
   "cell_type": "code",
   "execution_count": 41,
   "id": "b759abee-38cf-48cf-b634-a35423d31778",
   "metadata": {},
   "outputs": [
    {
     "name": "stdout",
     "output_type": "stream",
     "text": [
      "wow\n"
     ]
    }
   ],
   "source": [
    "x =2\n",
    "\n",
    "if x> 0:\n",
    "    print('wow')\n",
    "else:\n",
    "    print('oh')"
   ]
  },
  {
   "cell_type": "code",
   "execution_count": 42,
   "id": "35ba53cb-f0b2-4540-a78d-bb51e0a20e41",
   "metadata": {},
   "outputs": [
    {
     "name": "stdout",
     "output_type": "stream",
     "text": [
      "1\n",
      "2\n",
      "3\n",
      "4\n"
     ]
    }
   ],
   "source": [
    "num = 1\n",
    "\n",
    "while num<5:\n",
    "    print(num)\n",
    "    num = num+1"
   ]
  },
  {
   "cell_type": "code",
   "execution_count": 44,
   "id": "8345dc81-065e-4ba6-8dea-7655b51edfac",
   "metadata": {},
   "outputs": [
    {
     "name": "stdout",
     "output_type": "stream",
     "text": [
      "잔액은 900원 입니다.\n",
      "잔액은 800원 입니다.\n",
      "잔액은 700원 입니다.\n",
      "잔액은 600원 입니다.\n",
      "잔액은 500원 입니다.\n",
      "잔액은 400원 입니다.\n",
      "잔액은 300원 입니다.\n",
      "잔액은 200원 입니다.\n",
      "잔액은 100원 입니다.\n",
      "잔액은 0원 입니다.\n"
     ]
    }
   ],
   "source": [
    "money = 1000\n",
    "\n",
    "while True:\n",
    "    money = money - 100\n",
    "    print(f'잔액은 {money}원 입니다.')\n",
    "\n",
    "    if money <= 0 :\n",
    "        break"
   ]
  },
  {
   "cell_type": "code",
   "execution_count": 46,
   "id": "31f6c6aa-6d75-4b8c-823c-34d2c7fb2160",
   "metadata": {},
   "outputs": [
    {
     "name": "stdout",
     "output_type": "stream",
     "text": [
      "[1, 4, 9]\n"
     ]
    }
   ],
   "source": [
    "result = []\n",
    "a= [1,2,3]\n",
    "\n",
    "for i in a:\n",
    "    result.append(i**2)\n",
    "\n",
    "print(result)"
   ]
  },
  {
   "cell_type": "code",
   "execution_count": 47,
   "id": "97ff8ed5-3833-4fc5-8ef7-c3c0989e776d",
   "metadata": {},
   "outputs": [
    {
     "name": "stdout",
     "output_type": "stream",
     "text": [
      "[1, 4, 9]\n"
     ]
    }
   ],
   "source": [
    "result = [i**2 for i in a]\n",
    "print(result)"
   ]
  },
  {
   "cell_type": "code",
   "execution_count": 48,
   "id": "9b176e69-4b39-4636-9e6a-4d12ee90453b",
   "metadata": {},
   "outputs": [
    {
     "name": "stderr",
     "output_type": "stream",
     "text": [
      "100%|███████████████████████████████████████████| 10/10 [00:01<00:00,  9.52it/s]\n"
     ]
    }
   ],
   "source": [
    "import time \n",
    "\n",
    "from tqdm import tqdm\n",
    "\n",
    "for i in tqdm(range(10)):\n",
    "    time.sleep(0.1)"
   ]
  },
  {
   "cell_type": "code",
   "execution_count": 49,
   "id": "c78b7e91-26e8-472f-96e2-b9b6fff3cf85",
   "metadata": {},
   "outputs": [],
   "source": [
    "def f(x):\n",
    "    res = x**(1/2)\n",
    "    return res"
   ]
  },
  {
   "cell_type": "code",
   "execution_count": 50,
   "id": "672aa61a-65ff-4d7d-a743-b71a1b83bb21",
   "metadata": {},
   "outputs": [
    {
     "data": {
      "text/plain": [
       "2.0"
      ]
     },
     "execution_count": 50,
     "metadata": {},
     "output_type": "execute_result"
    }
   ],
   "source": [
    "f(4)"
   ]
  },
  {
   "cell_type": "code",
   "execution_count": 52,
   "id": "a43d58fd-2ef1-4c9c-822a-7238864cf2f1",
   "metadata": {},
   "outputs": [
    {
     "data": {
      "text/plain": [
       "2.0"
      ]
     },
     "execution_count": 52,
     "metadata": {},
     "output_type": "execute_result"
    }
   ],
   "source": [
    "divide_lam = lambda x, n: x/n\n",
    "divide_lam(6,3)"
   ]
  },
  {
   "cell_type": "code",
   "execution_count": 55,
   "id": "d75f97db-551c-45ae-975c-7beb9cfcf740",
   "metadata": {},
   "outputs": [],
   "source": [
    "import seaborn as sns"
   ]
  },
  {
   "cell_type": "code",
   "execution_count": 54,
   "id": "54d4ada0-f656-4cc5-bda7-4bb35646eb4d",
   "metadata": {},
   "outputs": [
    {
     "data": {
      "text/html": [
       "<div>\n",
       "<style scoped>\n",
       "    .dataframe tbody tr th:only-of-type {\n",
       "        vertical-align: middle;\n",
       "    }\n",
       "\n",
       "    .dataframe tbody tr th {\n",
       "        vertical-align: top;\n",
       "    }\n",
       "\n",
       "    .dataframe thead th {\n",
       "        text-align: right;\n",
       "    }\n",
       "</style>\n",
       "<table border=\"1\" class=\"dataframe\">\n",
       "  <thead>\n",
       "    <tr style=\"text-align: right;\">\n",
       "      <th></th>\n",
       "      <th>sepal_length</th>\n",
       "      <th>sepal_width</th>\n",
       "      <th>petal_length</th>\n",
       "      <th>petal_width</th>\n",
       "      <th>species</th>\n",
       "    </tr>\n",
       "  </thead>\n",
       "  <tbody>\n",
       "    <tr>\n",
       "      <th>0</th>\n",
       "      <td>5.1</td>\n",
       "      <td>3.5</td>\n",
       "      <td>1.4</td>\n",
       "      <td>0.2</td>\n",
       "      <td>setosa</td>\n",
       "    </tr>\n",
       "    <tr>\n",
       "      <th>1</th>\n",
       "      <td>4.9</td>\n",
       "      <td>3.0</td>\n",
       "      <td>1.4</td>\n",
       "      <td>0.2</td>\n",
       "      <td>setosa</td>\n",
       "    </tr>\n",
       "    <tr>\n",
       "      <th>2</th>\n",
       "      <td>4.7</td>\n",
       "      <td>3.2</td>\n",
       "      <td>1.3</td>\n",
       "      <td>0.2</td>\n",
       "      <td>setosa</td>\n",
       "    </tr>\n",
       "    <tr>\n",
       "      <th>3</th>\n",
       "      <td>4.6</td>\n",
       "      <td>3.1</td>\n",
       "      <td>1.5</td>\n",
       "      <td>0.2</td>\n",
       "      <td>setosa</td>\n",
       "    </tr>\n",
       "    <tr>\n",
       "      <th>4</th>\n",
       "      <td>5.0</td>\n",
       "      <td>3.6</td>\n",
       "      <td>1.4</td>\n",
       "      <td>0.2</td>\n",
       "      <td>setosa</td>\n",
       "    </tr>\n",
       "    <tr>\n",
       "      <th>...</th>\n",
       "      <td>...</td>\n",
       "      <td>...</td>\n",
       "      <td>...</td>\n",
       "      <td>...</td>\n",
       "      <td>...</td>\n",
       "    </tr>\n",
       "    <tr>\n",
       "      <th>145</th>\n",
       "      <td>6.7</td>\n",
       "      <td>3.0</td>\n",
       "      <td>5.2</td>\n",
       "      <td>2.3</td>\n",
       "      <td>virginica</td>\n",
       "    </tr>\n",
       "    <tr>\n",
       "      <th>146</th>\n",
       "      <td>6.3</td>\n",
       "      <td>2.5</td>\n",
       "      <td>5.0</td>\n",
       "      <td>1.9</td>\n",
       "      <td>virginica</td>\n",
       "    </tr>\n",
       "    <tr>\n",
       "      <th>147</th>\n",
       "      <td>6.5</td>\n",
       "      <td>3.0</td>\n",
       "      <td>5.2</td>\n",
       "      <td>2.0</td>\n",
       "      <td>virginica</td>\n",
       "    </tr>\n",
       "    <tr>\n",
       "      <th>148</th>\n",
       "      <td>6.2</td>\n",
       "      <td>3.4</td>\n",
       "      <td>5.4</td>\n",
       "      <td>2.3</td>\n",
       "      <td>virginica</td>\n",
       "    </tr>\n",
       "    <tr>\n",
       "      <th>149</th>\n",
       "      <td>5.9</td>\n",
       "      <td>3.0</td>\n",
       "      <td>5.1</td>\n",
       "      <td>1.8</td>\n",
       "      <td>virginica</td>\n",
       "    </tr>\n",
       "  </tbody>\n",
       "</table>\n",
       "<p>150 rows × 5 columns</p>\n",
       "</div>"
      ],
      "text/plain": [
       "     sepal_length  sepal_width  petal_length  petal_width    species\n",
       "0             5.1          3.5           1.4          0.2     setosa\n",
       "1             4.9          3.0           1.4          0.2     setosa\n",
       "2             4.7          3.2           1.3          0.2     setosa\n",
       "3             4.6          3.1           1.5          0.2     setosa\n",
       "4             5.0          3.6           1.4          0.2     setosa\n",
       "..            ...          ...           ...          ...        ...\n",
       "145           6.7          3.0           5.2          2.3  virginica\n",
       "146           6.3          2.5           5.0          1.9  virginica\n",
       "147           6.5          3.0           5.2          2.0  virginica\n",
       "148           6.2          3.4           5.4          2.3  virginica\n",
       "149           5.9          3.0           5.1          1.8  virginica\n",
       "\n",
       "[150 rows x 5 columns]"
      ]
     },
     "execution_count": 54,
     "metadata": {},
     "output_type": "execute_result"
    }
   ],
   "source": [
    "iris = sns.load_dataset('iris')\n",
    "iris"
   ]
  },
  {
   "cell_type": "code",
   "execution_count": 56,
   "id": "7ee3e194-cd7c-4bc2-a1e7-25a2657c1984",
   "metadata": {},
   "outputs": [
    {
     "data": {
      "text/plain": [
       "['Chrome',\n",
       " 'ChromeOptions',\n",
       " 'ChromeService',\n",
       " 'ChromiumEdge',\n",
       " 'DesiredCapabilities',\n",
       " 'Edge',\n",
       " 'EdgeOptions',\n",
       " 'EdgeService',\n",
       " 'Firefox',\n",
       " 'FirefoxOptions',\n",
       " 'FirefoxProfile',\n",
       " 'FirefoxService',\n",
       " 'Ie',\n",
       " 'IeOptions',\n",
       " 'IeService',\n",
       " 'Keys',\n",
       " 'Proxy',\n",
       " 'Remote',\n",
       " 'Safari']"
      ]
     },
     "execution_count": 56,
     "metadata": {},
     "output_type": "execute_result"
    }
   ],
   "source": [
    "import selenium.webdriver\n",
    "dir(selenium.webdriver)[1:20]"
   ]
  },
  {
   "cell_type": "code",
   "execution_count": null,
   "id": "f21adf74-fb26-4351-a03c-c3c82293acae",
   "metadata": {},
   "outputs": [],
   "source": []
  }
 ],
 "metadata": {
  "kernelspec": {
   "display_name": "Python 3 (ipykernel)",
   "language": "python",
   "name": "python3"
  },
  "language_info": {
   "codemirror_mode": {
    "name": "ipython",
    "version": 3
   },
   "file_extension": ".py",
   "mimetype": "text/x-python",
   "name": "python",
   "nbconvert_exporter": "python",
   "pygments_lexer": "ipython3",
   "version": "3.12.1"
  }
 },
 "nbformat": 4,
 "nbformat_minor": 5
}
