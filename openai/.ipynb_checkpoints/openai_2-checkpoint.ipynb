{
 "cells": [
  {
   "cell_type": "code",
   "execution_count": 33,
   "id": "5e5c2e9e-a07a-4ddc-b607-7a652f673833",
   "metadata": {},
   "outputs": [
    {
     "name": "stdout",
     "output_type": "stream",
     "text": [
      "I am. This phrase is the famous conclusion reached by philosopher René Descartes in his Discourse on the Method (1637) and further elaborated in his Meditations on First Philosophy (1641). The original Latin phrase is \"Cogito, ergo sum,\" which translates to \"I think, therefore I am\" in English. Descartes used this statement as a first step in demonstrating the attainability of certain knowledge. It is an example of what is known in philosophy as a self-evident truth or an axiom, a proposition that is so clear and distinct that it requires no further proof beyond its own statement. The cogito, as it is often referred to, is the foundational element of Descartes' philosophy, as it is supposed to be the one clear and distinct idea that is indubitable and thus the starting point for his method of hyperbolic doubt.\n"
     ]
    }
   ],
   "source": [
    "from openai import OpenAI\n",
    "\n",
    "# Replace with your actual API key\n",
    "client = OpenAI(api_key=\"\")\n",
    "\n",
    "def chat_completion(prompt, model=\"gpt-4-1106-preview\", temperature=0):\n",
    "    response = client.chat.completions.create(\n",
    "        model=model,\n",
    "        messages=[{\"role\": \"user\", \"content\": prompt}],\n",
    "        temperature=temperature\n",
    "    )\n",
    "    message = response.choices[0].message.content\n",
    "    print(message)\n",
    "\n",
    "chat_completion(\"As Descartes said, I think therefore\")"
   ]
  },
  {
   "cell_type": "code",
   "execution_count": 34,
   "id": "851af46a-f5e9-41b6-b0c3-580f845fd460",
   "metadata": {},
   "outputs": [
    {
     "name": "stdout",
     "output_type": "stream",
     "text": [
      "Certainly! How about trying a delicious Mediterranean-inspired dish like Lemon Herb Grilled Chicken with a side of quinoa tabbouleh and roasted vegetables?\n",
      "\n",
      "Here's a simple recipe for the Lemon Herb Grilled Chicken:\n",
      "\n",
      "Ingredients:\n",
      "- 4 boneless, skinless chicken breasts\n",
      "- 2 lemons, juiced and zested\n",
      "- 3 tablespoons olive oil\n",
      "- 2 garlic cloves, minced\n",
      "- 1 teaspoon dried oregano\n",
      "- 1 teaspoon dried thyme\n",
      "- 1 teaspoon dried rosemary\n",
      "- Salt and pepper to taste\n",
      "\n",
      "Instructions:\n",
      "1. In a bowl, whisk together lemon juice, lemon zest, olive oil, minced garlic, oregano, thyme, rosemary, salt, and pepper.\n",
      "2. Place the chicken breasts in a large resealable plastic bag or a shallow dish. Pour the marinade over the chicken, making sure each piece is well coated. Seal or cover and refrigerate for at least 30 minutes, or up to 2 hours for more flavor.\n",
      "3. Preheat your grill to medium-high heat. Remove the chicken from the marinade and grill for 6-7 minutes on each side, or until the chicken is cooked through and has nice grill marks.\n",
      "4. Let the chicken rest for a few minutes before slicing.\n",
      "\n",
      "For the quinoa tabbouleh:\n",
      "- 1 cup quinoa, cooked and cooled\n",
      "- 1 cup fresh parsley, chopped\n",
      "- 1/2 cup fresh mint, chopped\n",
      "- 1/2 cup cherry tomatoes, halved\n",
      "- 1/4 cup red onion, finely chopped\n",
      "- 2 tablespoons olive oil\n",
      "- 1 lemon, juiced\n",
      "- Salt and pepper to taste\n",
      "\n",
      "Mix all ingredients in a bowl and adjust seasoning to taste.\n",
      "\n",
      "For the roasted vegetables:\n",
      "- Choose a mix of your favorite vegetables (e.g., zucchini, bell peppers, red onions, cherry tomatoes, asparagus)\n",
      "- Toss them with olive oil, salt, pepper, and any additional herbs you like.\n",
      "- Roast in a preheated oven at 425°F (220°C) for about 20-25 minutes or until tender and slightly caramelized.\n",
      "\n",
      "Serve the grilled chicken with a generous helping of quinoa tabbouleh and a side of roasted vegetables for a balanced and flavorful meal. Enjoy your lunch!\n"
     ]
    }
   ],
   "source": [
    "chat_completion(\"Give me a suggestion for the main course for today's lunch.\")"
   ]
  },
  {
   "cell_type": "code",
   "execution_count": 35,
   "id": "264b5f52-9fc7-4925-94b5-6a6c16ecb577",
   "metadata": {},
   "outputs": [
    {
     "name": "stdout",
     "output_type": "stream",
     "text": [
      "The boy writes a letter to a girl --> The 👦 ✍️ a 💌 to a 👧\n"
     ]
    }
   ],
   "source": [
    "prompt = \"\"\"\n",
    "I go home --> 😊 go 🏠\n",
    "my dog is sad --> my 🐶 is 😞\n",
    "I run fast --> 😊 run ⚡\n",
    "I love my wife --> 😊 ❤️ my wife\n",
    "the girl plays with the ball --> the 👧 🎮 with the 🏀\n",
    "The boy writes a letter to a girl --> \n",
    "\"\"\"\n",
    "chat_completion(prompt)\n",
    "#Few shot learning"
   ]
  },
  {
   "cell_type": "code",
   "execution_count": 36,
   "id": "5656bff5-2b1a-40d7-b47c-04c6333bc331",
   "metadata": {},
   "outputs": [
    {
     "name": "stdout",
     "output_type": "stream",
     "text": [
      "{\n",
      "  \"animals\": [\n",
      "    \"Lion\",\n",
      "    \"Tiger\",\n",
      "    \"Elephant\",\n",
      "    \"Giraffe\",\n",
      "    \"Zebra\"\n",
      "  ]\n",
      "}\n"
     ]
    }
   ],
   "source": [
    "#출력서식 지정\n",
    "prompt = \"\"\"\n",
    "Give a JSON output with 5 names of animals. The output must be accepted by json.loads.\"\"\"\n",
    "\n",
    "chat_completion(prompt, model = 'gpt-4')"
   ]
  },
  {
   "cell_type": "code",
   "execution_count": 37,
   "id": "c35f6ecf-cc43-4488-943e-360a4cb272e2",
   "metadata": {},
   "outputs": [
    {
     "data": {
      "text/plain": [
       "FileObject(id='file-jzVzBAV0e1A3320LyMdls6zv', bytes=40815, created_at=1708929646, filename='out_openai_completion_prepared.jsonl', object='file', purpose='fine-tune', status='processed', status_details=None)"
      ]
     },
     "execution_count": 37,
     "metadata": {},
     "output_type": "execute_result"
    }
   ],
   "source": [
    "client.files.create(\n",
    "    file = open(\"out_openai_completion_prepared.jsonl\",\"rb\"),\n",
    "    purpose='fine-tune')"
   ]
  },
  {
   "cell_type": "code",
   "execution_count": 38,
   "id": "b86409b1-49bf-4445-8186-79fab8115774",
   "metadata": {},
   "outputs": [],
   "source": [
    "l_sector = ['Grocery Stores', 'Restaurants', 'Fast Food Restaurants',\n",
    "            'Pharmacies', 'Service Stations (Fuel)', 'Electronics Stores']\n",
    "l_city = ['Brussels', 'Paris', 'Berlin']\n",
    "l_size = ['small', 'medium', 'large']\n"
   ]
  },
  {
   "cell_type": "code",
   "execution_count": 39,
   "id": "c1966a9c-509c-478c-ac1b-7cdaab413c48",
   "metadata": {},
   "outputs": [],
   "source": [
    "f_prompt = \"\"\"\n",
    "Role: You are an expert content writer with extensive direct marketing experience. You\n",
    "have strong writing skills, creativity, adaptability to different tones and styles, and\n",
    "a deep understanding of audience needs and preferences for effective direct campaigns.\n",
    "Context: You have to write a short message in no more than 2 sentences for a direct\n",
    "marketing campaign to sell a new e-commerce payment service to stores.\n",
    "The target stores have the following three characteristics:\n",
    "- The sector of activity: {sector}\n",
    "- The city where the stores are located: {city}\n",
    "- The size of the stores: {size}\n",
    "Task: Write a short message for the direct marketing campaign. Use the skills defined\n",
    "in your role to write this message! It is important that the message you create takes\n",
    "into account the product you are selling and the characteristics of the store you are\n",
    "writing to.\"\"\"\n"
   ]
  },
  {
   "cell_type": "code",
   "execution_count": 40,
   "id": "918f896e-9973-4197-93b6-90efd3a6219e",
   "metadata": {},
   "outputs": [],
   "source": [
    "f_sub_prompt = \"{sector}, {city}, {size}\"\n"
   ]
  },
  {
   "cell_type": "code",
   "execution_count": 43,
   "id": "e43fd92e-3463-4ec5-870e-cfae7177fc77",
   "metadata": {},
   "outputs": [
    {
     "name": "stdout",
     "output_type": "stream",
     "text": [
      "\"Boost your small grocery store in Brussels with our new e-commerce payment service, tailored to your needs. Streamline transactions and attract more customers with our user-friendly platform designed for stores like yours.\"\n",
      "\"Upgrade your small grocery store in Brussels with our new e-commerce payment service, tailored to meet your specific needs and enhance customer convenience. Streamline transactions and boost sales with our user-friendly platform today!\"\n",
      "\"Boost sales and customer satisfaction at your small Brussels grocery store with our new e-commerce payment service! Simplify transactions and drive growth with easy online payments tailored to your store's needs.\"\n",
      "\"Upgrade your grocery store's payment system with our new e-commerce payment service in Brussels. Streamline transactions and boost efficiency in your medium-sized store today!\"\n",
      "\"Attention medium-sized grocery stores in Brussels! Increase your sales and streamline your checkout process with our new e-commerce payment service. Join us today to offer your customers a convenient and secure payment experience.\"\n",
      "\"Boost your sales and streamline your payment process with our new e-commerce payment service tailored for medium-sized grocery stores in Brussels. Sign up today to experience seamless transactions and satisfied customers!\"\n",
      "\"Boost your sales and streamline transactions at your large grocery store in bustling Brussels with our new, innovative e-commerce payment service! Enjoy seamless transactions and satisfied customers with our cutting-edge solution tailored for stores like yours.\"\n",
      "\"Boost sales and streamline transactions at your large grocery store in Brussels with our new e-commerce payment service! Simplify the checkout process for your customers and increase efficiency for your business today.\"\n",
      "\"Boost sales and streamline transactions at your large grocery stores in Brussels with our innovative e-commerce payment service! Simplify the checkout process for your customers while increasing your bottom line – contact us today to learn more!\"\n",
      "\"Attention Parisian grocery stores! Streamline your payment process and boost sales with our new e-commerce payment service tailored for small businesses. Experience seamless transactions and increased customer satisfaction today!\"\n",
      "\"Boost your small grocery store's sales in Paris with our new e-commerce payment service tailored for your convenience. Simplify transactions and cater to your tech-savvy customers with ease. Try it now and enhance your store's efficiency!\"\n",
      "\"Boost your small grocery store's sales in Paris with our seamless e-commerce payment service tailored to fit your needs! Streamline transactions and cater to your tech-savvy customers with ease.\"\n",
      "\"Boost sales and streamline transactions at your medium-sized Paris-based Grocery Store with our innovative e-commerce payment service. Join other successful stores in embracing the future of convenient and secure payments today!\"\n",
      "\"Upgrade your checkout experience with our new e-commerce payment service, tailored for medium-sized grocery stores in Paris. Simplify transactions, increase customer satisfaction, and boost sales with our convenient and secure solution.\"\n",
      "\"Unlock new sales opportunities and streamline your payment process with our innovative e-commerce payment service tailored for medium-sized grocery stores in the bustling city of Paris. Stay ahead of the competition and provide seamless checkout experiences for your customers today!\"\n",
      "\"Revolutionize your large Parisian grocery store with our new e-commerce payment service, providing convenience and speed for your customers while increasing sales and efficiency for your business. Stay ahead of the competition and enhance your store's performance with our cutting-edge solution. Contact us today to learn more!\"\n",
      "\"Boost sales and streamline your payment process with our new e-commerce payment service tailored for large grocery stores in Paris. Say goodbye to long lines and hello to increased efficiency and customer satisfaction!\"\n",
      "\"Upgrade your large Paris-based grocery store with our new e-commerce payment service, designed to streamline transactions and enhance customer experience. Join the future of retail with ease and convenience at your fingertips.\"\n",
      "\"Maximize your small grocery store's potential with our new e-commerce payment service designed for businesses in Berlin. Streamline transactions, boost sales, and cater to your customers' preferences effortlessly.\"\n",
      "\"Boost sales and simplify transactions with our new e-commerce payment service tailored for small grocery stores in Berlin. Increase efficiency and convenience for you and your customers today!\"\n",
      "\"Upgrade your small Berlin grocery store with our new e-commerce payment service tailored to fit your needs. Streamline transactions, boost sales, and delight your customers with our user-friendly solution.\"\n",
      "\"Upgrade your payment process with our new e-commerce payment service tailored for medium-sized grocery stores in Berlin. Streamline transactions and boost customer satisfaction today!\"\n",
      "\"Revolutionize your payment experience at your medium-sized grocery store in Berlin with our new e-commerce payment service. Streamline transactions, increase efficiency, and enhance customer satisfaction with our secure and user-friendly platform. Contact us today to learn more and take your store to the next level!\"\n",
      "\"Boost your grocery store sales in Berlin with our innovative e-commerce payment service tailored for medium-sized stores. Streamline transactions and increase customer satisfaction with our secure and user-friendly platform.\"\n",
      "\"Maximize sales at your large grocery store in Berlin with our new e-commerce payment service. Streamline transactions and attract more customers with our convenient and secure online payment solution tailored for your business.\"\n",
      "\"Boost your grocery store's sales with our new e-commerce payment service tailored for large stores in Berlin. Streamline transactions and increase customer satisfaction today!\"\n",
      "\"Revolutionize your large grocery store in Berlin with our new e-commerce payment service - making transactions seamlessly convenient for both you and your customers! Stay ahead of the competition and drive sales with our user-friendly solution tailored for businesses like yours.\"\n",
      "\"Boost your small restaurant in Brussels with our new e-commerce payment service, tailored to enhance your customer experience and increase sales. Join us today and watch your business grow effortlessly!\"\n",
      "\"Boost your restaurant's revenue with our new e-commerce payment service tailored for small businesses in Brussels. Streamline transactions and attract more customers with our secure and convenient payment solutions.\"\n",
      "\"Boost your small restaurant in Brussels with our new e-commerce payment service! Streamline your transactions and increase sales effortlessly. Try it now!\"\n",
      "\"Boost sales and streamline transactions at your medium-sized Brussels restaurant with our new e-commerce payment service. Simplify the checkout process for your customers and increase efficiency for your staff today!\"\n",
      "\"Boost sales and streamline transactions at your medium-sized Brussels restaurant with our innovative e-commerce payment service! Increase efficiency and customer satisfaction today.\"\n",
      "\"Boost sales and streamline your operations with our new e-commerce payment service designed for medium-sized restaurants in Brussels. Say goodbye to long wait times and offer your customers a seamless and secure check-out experience today!\"\n",
      "\"Boost your restaurant's revenue with our new e-commerce payment service, designed for large stores in Brussels. Simplify transactions and increase customer satisfaction today!\"\n",
      "\"Boost sales and streamline transactions for your large restaurants in Brussels with our innovative e-commerce payment service. Experience seamless payments and satisfied customers with our user-friendly platform tailored to your needs.\"\n",
      "\"Boost your large restaurant in Brussels with our new e-commerce payment service, tailored to streamline transactions and increase customer satisfaction. Join us in revolutionizing the way you do business - sign up now!\"\n",
      "\"Enhance your Parisian restaurant's payment process with our new e-commerce payment service designed for small businesses. Simplify transactions and boost customer satisfaction today!\"\n",
      "\"Bonjour! Boost your small restaurant in Paris with our new e-commerce payment service, designed to streamline transactions and enhance customer experience. Sign up today to enjoy seamless payments and drive growth for your business!\"\n",
      "\"Bonjour, petites brasseries de Paris! Simplifiez vos paiements en ligne avec notre nouveau service de paiement e-commerce rapide et sécurisé. Augmentez vos ventes et fidélisez vos clients en offrant une expérience de paiement fluide et pratique. Contactez-nous dès aujourd'hui pour en savoir plus!\"\n",
      "\"Bonjour Parisian restaurateurs! Upgrade your payment experience with our new e-commerce service tailored for medium-sized businesses. Simplify transactions and enhance customer satisfaction with our secure and easy-to-use platform. Contact us today to learn more!\"\n",
      "\"Bonjour! Unlock a seamless payment experience for your medium-sized restaurant in Paris with our new e-commerce payment service. Boost sales and streamline transactions effortlessly. Contact us today to learn more!\"\n",
      "\"Upgrade your restaurant's payment experience with our new e-commerce payment service tailored for medium-sized stores in Paris. Streamline transactions and boost customer satisfaction today!\"\n",
      "\"Bonjour, restaurateurs of Paris! Upgrade your payment experience with our new e-commerce payment service tailored for large stores. Streamline transactions and boost sales effortlessly. Contact us today to learn more!\"\n",
      "\"Bonjour! Boost your restaurant business in Paris with our new e-commerce payment service tailored for large stores. Simplify transactions and increase sales with ease. Contact us today to learn more!\"\n",
      "\"Attention Parisian restaurants! Upgrade your payment system to the innovative e-commerce service designed for large establishments like yours. Streamline transactions, increase customer satisfaction, and boost your bottom line with our secure and user-friendly solution. Contact us today to learn more!\"\n",
      "\"Enhance your customer experience with our new e-commerce payment service tailored for small restaurants in Berlin. Simplify transactions and boost sales with our secure and user-friendly platform. Try it today and see the difference it can make for your business!\"\n",
      "\"Revolutionize payments at your small Berlin restaurant with our new e-commerce payment service, designed to streamline transactions and boost customer satisfaction. Say goodbye to cumbersome cash-only operations and hello to a modern, convenient payment solution tailored to meet your store's needs.\"\n",
      "\"Unlock the potential of your small restaurant in Berlin with our new e-commerce payment service. Streamline transactions, boost efficiency, and cater to your tech-savvy customers with ease.\"\n",
      "\"Boost your restaurant's sales in Berlin with our new e-commerce payment service designed for medium-sized stores. Streamline transactions and attract more customers with our user-friendly platform tailored to your needs.\"\n",
      "\"Revolutionize your payment process at your Berlin restaurant with our new e-commerce payment service designed for medium-sized businesses. Streamline transactions, increase efficiency, and enhance customer experience today!\"\n",
      "\"Attention Berlin restaurants! Upgrade your payment experience with our new e-commerce payment service designed for medium-sized businesses. Simplify transactions and delight your customers with our secure and efficient solution.\"\n",
      "\"Revolutionize your payment process and boost revenue with our innovative e-commerce payment service, tailored for large restaurants in Berlin. Streamline transactions and enhance customer experience today!\"\n",
      "\"Boost your restaurant's revenue with our innovative e-commerce payment service, designed for large stores in Berlin. Simplify transactions, increase customer satisfaction, and watch your sales soar!\"\n",
      "\"Upgrade your payment options and streamline your business with our new e-commerce payment service designed for large restaurants in Berlin. Maximize efficiency and customer satisfaction today!\"\n",
      "\"Boost your small fast-food business in Brussels with our new e-commerce payment service tailored just for you. Streamline transactions, increase sales, and provide convenience for your customers – all at your fingertips!\"\n",
      "\"Streamline payments at your small fast food restaurant in Brussels with our new e-commerce payment service – providing quick and secure transactions tailored to meet the needs of your busy establishment.\"\n",
      "\"Boost your small fast food restaurant in Brussels with our new e-commerce payment service – streamline transactions, increase efficiency, and give your customers a seamless payment experience. Join the digital revolution today and watch your sales soar!\"\n",
      "\"Boost sales and increase customer satisfaction with our new e-commerce payment service tailored for medium-sized fast food restaurants in Brussels. Streamline transactions and drive growth with our secure and user-friendly solution!\"\n",
      "\"Boost sales and streamline transactions at your medium-sized fast food restaurant in Brussels with our new e-commerce payment service! Provide a seamless experience for your customers while maximizing efficiency and profits. Contact us today to learn more!\"\n",
      "\"Boost sales and streamline transactions at your medium-sized fast food restaurant in Brussels with our cutting-edge e-commerce payment service! Increase customer satisfaction and efficiency with our secure and convenient payment solution tailored to meet your unique business needs.\"\n",
      "\"Boost your large Fast Food Restaurant in Brussels with our new e-commerce payment service, designed to streamline transactions for you and your hungry customers. Don't miss out on the opportunity to enhance your store's efficiency and customer experience today!\"\n",
      "\"Revolutionize your payment process at your large fast food restaurant in Brussels with our new e-commerce payment service! Streamline transactions, enhance customer experience, and boost sales effortlessly.\"\n",
      "\"Boost sales and efficiency at your large fast food restaurant in Brussels with our new e-commerce payment service tailored to streamline transactions for your busy establishment. Stay ahead of the competition and satisfy your customers' needs with our convenient and secure payment solution.\"\n",
      "\"Boost sales at your small fast food restaurant in Paris with our new e-commerce payment service designed for businesses like yours! Streamline transactions and increase customer satisfaction today.\"\n",
      "\"Boost your small fast food restaurant in Paris with our new e-commerce payment service designed to streamline transactions and increase customer satisfaction. Join other successful small businesses in embracing the future of payments!\"\n",
      "\"Boost efficiency and increase profits with our new e-commerce payment service tailored for small fast food restaurants in Paris. Simplify transactions, attract more customers, and stay ahead of the competition with our user-friendly platform!\"\n",
      "\"Boost your medium-sized fast food restaurant in Paris with our new e-commerce payment service, designed to streamline transactions and increase customer satisfaction. Stay ahead of the competition and grow your business effortlessly with our innovative solution tailored to your needs.\"\n",
      "\"Boost efficiency and customer satisfaction at your medium-sized fast food restaurant in Paris with our seamless e-commerce payment service. Simplify transactions and enhance the dining experience for your loyal customers today!\"\n",
      "\"Bonjour, as a fast food restaurant in Paris, streamline your payment process with our new e-commerce payment service tailored for medium-sized stores. Boost efficiency and customer satisfaction with our easy-to-use platform. Contact us today to learn more!\"\n",
      "\"Boost your sales and streamline transactions with our innovative e-commerce payment service tailored for large fast food restaurants in Paris. Maximize efficiency and customer satisfaction by adopting our secure and user-friendly solution today!\"\n",
      "\"Boost your fast food restaurant's sales in the heart of Paris with our new e-commerce payment service designed for large stores. Streamline transactions and drive customer satisfaction today!\"\n",
      "\"Boost your revenue with our new e-commerce payment service tailored for large fast food restaurants in Paris. Streamline transactions, increase customer satisfaction, and watch your profits soar!\"\n",
      "\"Boost your small fast food restaurant in Berlin with our new e-commerce payment service! Streamline transactions and increase customer satisfaction with just a few clicks.\"\n",
      "\"Boost your small fast food restaurant in Berlin with our new e-commerce payment service, tailored to your needs for seamless transactions and increased customer satisfaction. Drive sales and streamline operations with our innovative solution today!\"\n",
      "\"Boost sales and streamline transactions at your small fast food restaurant in Berlin with our new e-commerce payment service tailored for businesses like yours. Increase efficiency and customer satisfaction today!\"\n",
      "\"Boost sales and streamline transactions at your medium-sized fast food restaurant in Berlin with our innovative e-commerce payment service – making it easier than ever for your customers to order and pay online. Say goodbye to long lines and hello to increased revenue today!\"\n",
      "\"Boost your sales and streamline your transactions with our new e-commerce payment service tailored for medium-sized Fast Food Restaurants in Berlin. Say goodbye to long queues and complicated payment processes - try it now!\"\n",
      "\"Boost sales and customer satisfaction at your medium-sized fast food restaurant in Berlin with our new e-commerce payment service! Simplify transactions and increase revenue with seamless online payment options tailored to your business needs.\"\n",
      "\"Boost your fast food business in Berlin with our new e-commerce payment service designed for large stores. Streamline transactions and increase efficiency today!\"\n",
      "\"Boost your sales and streamline your transactions with our new e-commerce payment service tailored for large fast food restaurants in Berlin. Increase efficiency and customer satisfaction today!\"\n",
      "\"Upgrade your fast food restaurant in Berlin with our new e-commerce payment service designed for large stores. Streamline transactions and enhance customer experience today!\"\n",
      "\"Attention all small pharmacies in Brussels! Streamline your payment process with our new, user-friendly e-commerce payment service tailored for small businesses. Increase efficiency and customer satisfaction today!\"\n",
      "\"Upgrade your small pharmacy in Brussels with our new e-commerce payment service tailored to streamline your transactions and boost customer satisfaction. Embrace convenience, efficiency, and growth with our cutting-edge solution now!\"\n",
      "\"Boost sales and streamline transactions with our new e-commerce payment service designed for small pharmacies in Brussels. Simplify the checkout process and enhance customer satisfaction today!\"\n",
      "\"Unlock seamless transactions and boost sales at your medium-sized pharmacies in Brussels with our innovative e-commerce payment service. Say goodbye to long queues and hello to a more efficient and convenient payment process for your customers!\"\n",
      "\"Boost sales and streamline transactions with our new e-commerce payment service tailored for medium-sized pharmacies in Brussels. Experience seamless payments and increased customer satisfaction now!\"\n",
      "\"Attention medium-sized pharmacies in Brussels! Increase your sales and simplify payment transactions with our new e-commerce payment service tailored to meet your needs. Streamline your checkout process and boost customer satisfaction today.\"\n",
      "\"Upgrade your pharmacy's payment experience with our cutting-edge e-commerce payment service! Boost efficiency and customer satisfaction at your large store in Brussels now.\"\n",
      "\"Attention all large pharmacies in Brussels! Streamline your payment process with our new e-commerce payment service tailored to meet your store's specific needs. Increase efficiency and customer satisfaction today!\"\n",
      "\"Transform your large pharmacy in Brussels into a seamless e-commerce powerhouse with our new payment service. Increase sales, streamline transactions, and enhance customer experience effortlessly. Contact us today for more information!\"\n",
      "\"Upgrade your small Parisian pharmacy with our new e-commerce payment service, designed to streamline transactions and boost customer satisfaction. Join the digital revolution and stay ahead of the competition!\"\n",
      "\"Revolutionize your small Parisian pharmacy with our cutting-edge e-commerce payment service, designed to streamline transactions and enhance customer experience. Join the future of retail today!\"\n",
      "\"Bonjour, small pharmacies in Paris! Revolutionize your payment process with our new e-commerce payment service tailored to your needs. Streamline transactions, enhance customer experience, and boost sales effortlessly. Contact us today to learn more and elevate your business!\"\n",
      "\"Boost sales and streamline transactions at your medium-sized Parisian pharmacy with our new e-commerce payment service. Offer your customers more convenience and flexibility while growing your business online. Contact us today to learn more!\"\n",
      "\"Upgrade your pharmacy in Paris with our innovative e-commerce payment service tailored for medium-sized stores. Increase convenience for your customers and streamline transactions with our secure and efficient solution. Contact us today to learn more!\"\n",
      "\"Boost your pharmacy's sales in Paris with our new e-commerce payment service tailored for medium-sized stores. Streamline transactions and increase customer satisfaction with our secure and efficient payment solution!\"\n",
      "\"Upgrade your Parisian pharmacy with our new seamless e-commerce payment service tailored for large stores. Boost sales and streamline transactions for a smoother customer experience today!\"\n",
      "\"Revolutionize your payment process with our new e-commerce payment service designed for large pharmacies in Paris. Increase efficiency and customer satisfaction while streamlining transactions with our secure and user-friendly platform.\"\n",
      "\"Upgrade your pharmacy's payment options with our new e-commerce payment service tailored for large stores in Paris. Streamline transactions and attract more customers with our secure and efficient solution today!\"\n",
      "\"Upgrade your small Berlin pharmacy with our new e-commerce payment service, tailored to meet the needs of your store. Streamline transactions, attract more customers, and grow your business with ease.\"\n",
      "\"Upgrade your small pharmacy in Berlin with our new e-commerce payment service, tailored to meet your store's specific needs. Streamline transactions and boost sales effortlessly with our user-friendly payment solution.\"\n",
      "\"Boost sales and streamline transactions at your Berlin-based small pharmacy with our new e-commerce payment service, tailored to meet the unique needs of your business. Stay ahead of the competition and offer customers a convenient and secure payment experience today!\"\n",
      "\"Unlock new potential for your Berlin-based medium-sized pharmacy with our innovative e-commerce payment service. Streamline transactions, boost efficiency, and enhance customer experience today!\"\n",
      "\"Unlock seamless payments for your medium-sized pharmacy in Berlin with our new e-commerce payment service. Increase customer satisfaction and streamline transactions effortlessly.\"\n",
      "\"Upgrade your pharmacy's payment system with our new e-commerce service tailored for medium-sized stores in Berlin. Offer secure transactions and increase customer satisfaction with our easy-to-use platform. Contact us today for a free demo!\"\n",
      "\"Revolutionize your customers' shopping experience with our new e-commerce payment service tailored for large pharmacies in Berlin. Increase efficiency and customer satisfaction by offering seamless transactions with our secure and user-friendly platform.\"\n",
      "\"Switch to our new e-commerce payment service tailored for large pharmacies in Berlin, streamline transactions, and increase customer satisfaction. Join the future of retail today!\"\n",
      "\"Attention all large pharmacies in Berlin! Increase your sales and streamline your payment process with our innovative e-commerce payment service. Contact us today to learn more and revolutionize your store's financial transactions.\"\n",
      "\"Rev up your sales at your small service station in Brussels with our new e-commerce payment service! Streamline transactions and boost customer satisfaction with our user-friendly platform tailored for businesses like yours.\"\n",
      "\"Maximize profits and customer satisfaction at your small service station in Brussels with our innovative e-commerce payment service tailored to meet your needs. Streamline transactions and boost efficiency with our secure and user-friendly platform today!\"\n",
      "\"Boost your fuel station sales in Brussels with our new e-commerce payment service designed specifically for small businesses. Streamline transactions and attract more customers with our convenient and secure platform. Sign up today to take your store to the next level!\"\n",
      "\"Rev up your sales with our new e-commerce payment service tailored for medium-sized service stations in Brussels! Streamline transactions, increase customer satisfaction, and boost your bottom line today.\"\n",
      "\"Upgrade your service station in Brussels with our new e-commerce payment solution tailored for medium-sized stores. Increase efficiency and convenience for your customers while boosting your revenue potential. Contact us today to learn more!\"\n",
      "\"Attention medium-sized service stations in Brussels! Boost your sales and streamline transactions with our new e-commerce payment service designed to cater to your business needs. Contact us today to revolutionize your payment process!\"\n",
      "\"Upgrade your service station in Brussels with our new e-commerce payment service designed for large stores. Streamline your transactions and enhance customer experience with our secure and efficient solution.\"\n",
      "\"Boost sales and streamline payments at your large fuel service stations in Brussels with our new e-commerce payment service! Don't miss out on the opportunity to drive efficiency and customer satisfaction – contact us today to learn more.\"\n",
      "\"Boost your fuel station's efficiency and profits with our new e-commerce payment service designed for large stores in Brussels. Streamline transactions, attract more customers, and stay ahead of the competition today!\"\n",
      "\"Attention service stations in Paris! Increase your sales and customer satisfaction with our new e-commerce payment service tailored for small businesses. Streamline transactions and boost productivity today!\"\n",
      "\"Boost sales at your small Parisian service station with our innovative e-commerce payment service, designed to streamline transactions and enhance customer experience. Don't miss out on this opportunity to drive growth and efficiency in your business!\"\n",
      "\"Boost sales and streamline transactions at your small service station in Paris with our convenient e-commerce payment service! Experience faster, secure payments that will delight your customers and drive growth for your business.\"\n",
      "\"Revolutionize your fuel station business in Paris with our new e-commerce payment service designed for medium-sized stores. Streamline transactions, increase efficiency, and boost customer satisfaction today!\"\n",
      "\"Boost your service station sales in Paris with our new e-commerce payment service designed for medium-sized stores. Stay ahead of the competition and make transactions seamless for your customers!\"\n",
      "\"Boost your service station's profits in Paris with our new e-commerce payment service, designed specifically for medium-sized stores like yours. Simplify transactions, increase customer satisfaction, and watch your business thrive!\"\n",
      "\"Boost your sales and streamline transactions at your large service stations in Paris with our new e-commerce payment service! Join the future of payments and offer your customers a convenient and secure way to pay.\"\n",
      "\"Upgrade your service station in Paris with our new e-commerce payment solution tailored for large stores. Streamline transactions and boost customer satisfaction with our secure and convenient platform.\"\n",
      "\"Upgrade your service station in Paris to a seamless e-commerce experience with our new payment service tailored for large stores. Boost customer satisfaction and streamline transactions with our innovative platform!\"\n",
      "\"Revolutionize your small service station in Berlin with our new e-commerce payment service tailored to streamline your transactions. Increase convenience and efficiency for your customers while boosting your sales with our user-friendly platform.\"\n",
      "\"Boost sales and streamline transactions at your small service station in Berlin with our new e-commerce payment service tailored to meet your needs. Experience the convenience and efficiency of secure online payments for your customers today!\"\n",
      "\"Streamline your payments and boost your small service station in Berlin with our new e-commerce payment service. Simplify transactions and drive sales with ease!\"\n",
      "\"Attention service stations in Berlin! Drive sales and increase customer convenience with our new e-commerce payment service designed for medium-sized stores. Streamline transactions and boost revenue today!\"\n",
      "\"Rev up your sales with our new e-commerce payment service tailored for medium-sized service stations in Berlin. Simplify transactions and boost customer satisfaction today!\"\n",
      "\"Rev up your sales with our new e-commerce payment service tailored for medium-sized service stations in Berlin. Simplify transactions and boost customer satisfaction today!\"\n",
      "\"Rev up your sales with our new e-commerce payment service tailored for large service stations in Berlin. Simplify transactions and boost customer satisfaction today!\"\n",
      "\"Revamp your service station's payment system in Berlin with our new e-commerce payment service designed for large stores. Streamline transactions and boost efficiency today!\"\n",
      "\"Boost your fuel station's operations with our new e-commerce payment service tailored for large stores in Berlin. Streamline transactions, increase sales, and enhance customer experience today!\"\n",
      "\"Boost sales and streamline transactions with our new e-commerce payment service tailored for small electronics stores in Brussels. Increase revenue and efficiency today!\"\n",
      "\"Boost your electronics store in Brussels with our new e-commerce payment service tailored for small businesses. Increase sales and customer convenience with secure and easy online transactions. Contact us today to learn more!\"\n",
      "\"Boost sales and streamline transactions at your small electronics store in Brussels with our new e-commerce payment service! Increase customer satisfaction and drive growth with easy, secure payments tailored to your business needs.\"\n",
      "\"Upgrade your medium-sized electronics store in Brussels with our new e-commerce payment service, designed to streamline transactions and boost sales. Don't miss this opportunity to provide your customers with a seamless and secure payment experience!\"\n",
      "\"Upgrade your payment experience with our new e-commerce payment service tailored for medium-sized electronics stores in Brussels. Increase efficiency and customer satisfaction with seamless transactions today!\"\n",
      "\"Revolutionize your electronics store payments with our cutting-edge e-commerce payment service tailored for medium-sized stores in Brussels. Increase sales and customer satisfaction effortlessly - try it today!\"\n",
      "\"Upgrade your electronics store in Brussels with our new e-commerce payment service designed for large retailers. Streamline transactions, increase efficiency, and elevate customer experience today!\"\n",
      "\"Revamp your payment process with our new e-commerce payment service tailor-made for large electronics stores in Brussels. Streamline transactions and boost sales effortlessly. Contact us today for a demo!\"\n",
      "\"Revolutionize your electronic store in Brussels with our new e-commerce payment service tailored for large retailers. Increase sales, streamline operations, and enhance customer satisfaction with our innovative solution.\"\n",
      "\"Boost sales and streamline transactions at your small electronics store in Paris with our innovative e-commerce payment service. Simplify payment processing for your customers and increase your revenue effortlessly!\"\n",
      "\"Boost sales and streamline transactions at your small electronics store in Paris with our innovative e-commerce payment service. Increase revenue and customer satisfaction with seamless payment solutions tailored to your store's needs.\"\n",
      "\"Boost your sales and streamline your payment process with our new e-commerce payment service, tailored for small electronics stores in Paris. Increase efficiency and customer satisfaction today!\"\n",
      "\"Upgrade your Parisian electronics store with our new e-commerce payment service tailored for medium-sized businesses. Boost your sales and customer experience with seamless transactions and secure payment processing. Contact us today to learn more!\"\n",
      "\"Bonjour, are you looking for a seamless e-commerce payment solution for your medium-sized electronics store in Paris? Look no further - our innovative payment service is tailored to meet your specific needs and boost your sales effortlessly!\"\n",
      "\"Upgrade your electronics store in Paris with our new e-commerce payment service designed for medium-sized businesses. Boost sales, streamline transactions, and enhance customer satisfaction today!\"\n",
      "\"Attention electronics stores in Paris! Upgrade your payment system with our new e-commerce service designed for large retailers. Streamline transactions, increase sales, and stay ahead of the competition. Contact us today to learn more!\"\n",
      "\"Upgrade your electronics store in Paris with our new e-commerce payment service tailored for large retailers. Streamline transactions and boost sales with our secure and efficient platform. Contact us today to learn more!\"\n",
      "\"Attention large electronics stores in Paris! Optimize your payment process with our new e-commerce payment service tailored for your high-volume transactions. Increase sales and streamline operations with our easy-to-use platform. Contact us today to learn more and revolutionize your store's payment experience!\"\n",
      "\"Boost sales at your small electronics store in Berlin with our new e-commerce payment service! Streamline transactions, increase customer convenience, and watch your profits grow.\"\n",
      "\"Attention small electronics stores in Berlin! Revolutionize your payment process with our new e-commerce payment service tailored to fit your business needs. Increase efficiency and customer satisfaction today!\"\n",
      "\"Unlock faster transactions and increase sales with our new e-commerce payment service tailored for small electronics stores in Berlin. Streamline your payment process and boost customer satisfaction today!\"\n",
      "\"Boost sales and streamline transactions with our new e-commerce payment service, tailored for medium-sized electronics stores in Berlin. Increase customer satisfaction and drive business growth today!\"\n",
      "\"Revolutionize your customers' online shopping experience with our new e-commerce payment service tailored for medium-sized electronics stores in Berlin. Increase sales and create a seamless purchase journey today!\"\n",
      "\"Upgrade your payment process for seamless transactions at your medium-sized electronics store in Berlin with our innovative e-commerce payment service. Boost sales and customer satisfaction with our secure and user-friendly solution today!\"\n",
      "\"Attention large electronics stores in Berlin! Maximize your sales with our new e-commerce payment service tailored to meet your needs. Streamline transactions and boost customer satisfaction today!\"\n",
      "\"Revolutionize your customer experience and boost sales with our new e-commerce payment service tailored for large electronics stores in Berlin. Streamline transactions and increase revenue effortlessly. Learn more today!\"\n",
      "\"Revolutionize payment processing for your large electronics store in Berlin with our innovative e-commerce payment service, designed to streamline transactions and increase customer satisfaction!\"\n"
     ]
    }
   ],
   "source": [
    "import pandas as pd\n",
    "\n",
    "df = pd.DataFrame()\n",
    "for sector in l_sector:\n",
    "  for city in l_city:\n",
    "    for size in l_size:\n",
    "      for i in range(3): ## sector, city, size 조합에 따른 반복 수행\n",
    "          prompt = f_prompt.format(sector=sector, city=city, size=size)\n",
    "          sub_prompt = f_sub_prompt.format(\n",
    "              sector=sector, city=city, size=size\n",
    "          )\n",
    "          response_txt = chat_completion(\n",
    "              prompt, model=\"gpt-3.5-turbo\", temperature=1\n",
    "          )\n",
    "          new_row = {\"prompt\": sub_prompt, \"completion\": response_txt}\n",
    "          new_row = pd.DataFrame([new_row])\n",
    "          df = pd.concat([df, new_row], axis=0, ignore_index=True)\n",
    "df.to_csv(\"out_openai_completion.csv\", index=False)"
   ]
  },
  {
   "cell_type": "code",
   "execution_count": null,
   "id": "5fcf8376-f98b-47b8-bc45-9d11a95c41a5",
   "metadata": {},
   "outputs": [],
   "source": []
  }
 ],
 "metadata": {
  "kernelspec": {
   "display_name": "Python 3 (ipykernel)",
   "language": "python",
   "name": "python3"
  },
  "language_info": {
   "codemirror_mode": {
    "name": "ipython",
    "version": 3
   },
   "file_extension": ".py",
   "mimetype": "text/x-python",
   "name": "python",
   "nbconvert_exporter": "python",
   "pygments_lexer": "ipython3",
   "version": "3.12.1"
  }
 },
 "nbformat": 4,
 "nbformat_minor": 5
}
