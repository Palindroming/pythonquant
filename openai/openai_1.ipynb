{
 "cells": [
  {
   "cell_type": "code",
   "execution_count": 55,
   "id": "03993215-24f0-4bb9-949e-8e384969b816",
   "metadata": {},
   "outputs": [
    {
     "name": "stdout",
     "output_type": "stream",
     "text": [
      "Requirement already satisfied: redis in /Library/Frameworks/Python.framework/Versions/3.12/lib/python3.12/site-packages (5.0.1)\n",
      "Requirement already satisfied: pymupdf in /Library/Frameworks/Python.framework/Versions/3.12/lib/python3.12/site-packages (1.23.25)\n",
      "Requirement already satisfied: openai in /Library/Frameworks/Python.framework/Versions/3.12/lib/python3.12/site-packages (1.12.0)\n",
      "Requirement already satisfied: numpy in /Library/Frameworks/Python.framework/Versions/3.12/lib/python3.12/site-packages (1.26.3)\n",
      "Requirement already satisfied: PyMuPDFb==1.23.22 in /Library/Frameworks/Python.framework/Versions/3.12/lib/python3.12/site-packages (from pymupdf) (1.23.22)\n",
      "Requirement already satisfied: anyio<5,>=3.5.0 in /Library/Frameworks/Python.framework/Versions/3.12/lib/python3.12/site-packages (from openai) (4.2.0)\n",
      "Requirement already satisfied: distro<2,>=1.7.0 in /Library/Frameworks/Python.framework/Versions/3.12/lib/python3.12/site-packages (from openai) (1.9.0)\n",
      "Requirement already satisfied: httpx<1,>=0.23.0 in /Library/Frameworks/Python.framework/Versions/3.12/lib/python3.12/site-packages (from openai) (0.26.0)\n",
      "Requirement already satisfied: pydantic<3,>=1.9.0 in /Library/Frameworks/Python.framework/Versions/3.12/lib/python3.12/site-packages (from openai) (2.6.1)\n",
      "Requirement already satisfied: sniffio in /Library/Frameworks/Python.framework/Versions/3.12/lib/python3.12/site-packages (from openai) (1.3.0)\n",
      "Requirement already satisfied: tqdm>4 in /Library/Frameworks/Python.framework/Versions/3.12/lib/python3.12/site-packages (from openai) (4.66.1)\n",
      "Requirement already satisfied: typing-extensions<5,>=4.7 in /Library/Frameworks/Python.framework/Versions/3.12/lib/python3.12/site-packages (from openai) (4.9.0)\n",
      "Requirement already satisfied: idna>=2.8 in /Library/Frameworks/Python.framework/Versions/3.12/lib/python3.12/site-packages (from anyio<5,>=3.5.0->openai) (3.6)\n",
      "Requirement already satisfied: certifi in /Library/Frameworks/Python.framework/Versions/3.12/lib/python3.12/site-packages (from httpx<1,>=0.23.0->openai) (2023.11.17)\n",
      "Requirement already satisfied: httpcore==1.* in /Library/Frameworks/Python.framework/Versions/3.12/lib/python3.12/site-packages (from httpx<1,>=0.23.0->openai) (1.0.2)\n",
      "Requirement already satisfied: h11<0.15,>=0.13 in /Library/Frameworks/Python.framework/Versions/3.12/lib/python3.12/site-packages (from httpcore==1.*->httpx<1,>=0.23.0->openai) (0.14.0)\n",
      "Requirement already satisfied: annotated-types>=0.4.0 in /Library/Frameworks/Python.framework/Versions/3.12/lib/python3.12/site-packages (from pydantic<3,>=1.9.0->openai) (0.6.0)\n",
      "Requirement already satisfied: pydantic-core==2.16.2 in /Library/Frameworks/Python.framework/Versions/3.12/lib/python3.12/site-packages (from pydantic<3,>=1.9.0->openai) (2.16.2)\n",
      "\n",
      "\u001b[1m[\u001b[0m\u001b[34;49mnotice\u001b[0m\u001b[1;39;49m]\u001b[0m\u001b[39;49m A new release of pip is available: \u001b[0m\u001b[31;49m23.3.2\u001b[0m\u001b[39;49m -> \u001b[0m\u001b[32;49m24.0\u001b[0m\n",
      "\u001b[1m[\u001b[0m\u001b[34;49mnotice\u001b[0m\u001b[1;39;49m]\u001b[0m\u001b[39;49m To update, run: \u001b[0m\u001b[32;49mpip install --upgrade pip\u001b[0m\n",
      "Note: you may need to restart the kernel to use updated packages.\n"
     ]
    }
   ],
   "source": [
    "pip install redis pymupdf openai numpy"
   ]
  },
  {
   "cell_type": "code",
   "execution_count": 56,
   "id": "4455fc23-ff2f-4aa4-a55e-1818c432322b",
   "metadata": {},
   "outputs": [
    {
     "name": "stdout",
     "output_type": "stream",
     "text": [
      "Requirement already satisfied: openai in /Library/Frameworks/Python.framework/Versions/3.12/lib/python3.12/site-packages (1.12.0)\n",
      "Requirement already satisfied: anyio<5,>=3.5.0 in /Library/Frameworks/Python.framework/Versions/3.12/lib/python3.12/site-packages (from openai) (4.2.0)\n",
      "Requirement already satisfied: distro<2,>=1.7.0 in /Library/Frameworks/Python.framework/Versions/3.12/lib/python3.12/site-packages (from openai) (1.9.0)\n",
      "Requirement already satisfied: httpx<1,>=0.23.0 in /Library/Frameworks/Python.framework/Versions/3.12/lib/python3.12/site-packages (from openai) (0.26.0)\n",
      "Requirement already satisfied: pydantic<3,>=1.9.0 in /Library/Frameworks/Python.framework/Versions/3.12/lib/python3.12/site-packages (from openai) (2.6.1)\n",
      "Requirement already satisfied: sniffio in /Library/Frameworks/Python.framework/Versions/3.12/lib/python3.12/site-packages (from openai) (1.3.0)\n",
      "Requirement already satisfied: tqdm>4 in /Library/Frameworks/Python.framework/Versions/3.12/lib/python3.12/site-packages (from openai) (4.66.1)\n",
      "Requirement already satisfied: typing-extensions<5,>=4.7 in /Library/Frameworks/Python.framework/Versions/3.12/lib/python3.12/site-packages (from openai) (4.9.0)\n",
      "Requirement already satisfied: idna>=2.8 in /Library/Frameworks/Python.framework/Versions/3.12/lib/python3.12/site-packages (from anyio<5,>=3.5.0->openai) (3.6)\n",
      "Requirement already satisfied: certifi in /Library/Frameworks/Python.framework/Versions/3.12/lib/python3.12/site-packages (from httpx<1,>=0.23.0->openai) (2023.11.17)\n",
      "Requirement already satisfied: httpcore==1.* in /Library/Frameworks/Python.framework/Versions/3.12/lib/python3.12/site-packages (from httpx<1,>=0.23.0->openai) (1.0.2)\n",
      "Requirement already satisfied: h11<0.15,>=0.13 in /Library/Frameworks/Python.framework/Versions/3.12/lib/python3.12/site-packages (from httpcore==1.*->httpx<1,>=0.23.0->openai) (0.14.0)\n",
      "Requirement already satisfied: annotated-types>=0.4.0 in /Library/Frameworks/Python.framework/Versions/3.12/lib/python3.12/site-packages (from pydantic<3,>=1.9.0->openai) (0.6.0)\n",
      "Requirement already satisfied: pydantic-core==2.16.2 in /Library/Frameworks/Python.framework/Versions/3.12/lib/python3.12/site-packages (from pydantic<3,>=1.9.0->openai) (2.16.2)\n",
      "\n",
      "\u001b[1m[\u001b[0m\u001b[34;49mnotice\u001b[0m\u001b[1;39;49m]\u001b[0m\u001b[39;49m A new release of pip is available: \u001b[0m\u001b[31;49m23.3.2\u001b[0m\u001b[39;49m -> \u001b[0m\u001b[32;49m24.0\u001b[0m\n",
      "\u001b[1m[\u001b[0m\u001b[34;49mnotice\u001b[0m\u001b[1;39;49m]\u001b[0m\u001b[39;49m To update, run: \u001b[0m\u001b[32;49mpip install --upgrade pip\u001b[0m\n",
      "Note: you may need to restart the kernel to use updated packages.\n"
     ]
    }
   ],
   "source": [
    "pip install openai --upgrade"
   ]
  },
  {
   "cell_type": "code",
   "execution_count": 57,
   "id": "3bed3765-8511-4b9e-bee6-127e6f700fd8",
   "metadata": {},
   "outputs": [
    {
     "name": "stdout",
     "output_type": "stream",
     "text": [
      "OpenAI version is compatible.\n"
     ]
    }
   ],
   "source": [
    "import openai\n",
    "from packaging import version\n",
    "\n",
    "required_version = version.parse(\"1.1.1\")\n",
    "current_version = version.parse(openai.__version__)\n",
    "\n",
    "if current_version < required_version:\n",
    "    raise ValueError(f\"Error: OpenAI version {openai.__version__}\"\n",
    "                     \" is less than the required version 1.1.1\")\n",
    "else:\n",
    "    print(\"OpenAI version is compatible.\")\n",
    "\n",
    "# -- Now we can get to it\n",
    "from openai import OpenAI\n",
    "client = OpenAI(api_key=\"sk-xxx\")"
   ]
  },
  {
   "cell_type": "code",
   "execution_count": 58,
   "id": "f085ca04-a7c0-435c-a4b5-e4a2a841d17d",
   "metadata": {},
   "outputs": [
    {
     "name": "stdout",
     "output_type": "stream",
     "text": [
      "Hey there! As an assistant for journalists, I wanted to share some fun facts with you today. Did you know that the sky is blue and the grass is green? It may seem like common knowledge, but it's always good to refresh our minds on the basics. Next time you're out enjoying nature, take a moment to appreciate the beautiful colors that surround us. And if you're working on a story about the great outdoors, don't forget to mention the blue sky and green grass – it's the little details that make a big impact! Happy writing!\n"
     ]
    }
   ],
   "source": [
    "from openai import OpenAI\n",
    "client = OpenAI(api_key=\"\")\n",
    "def ask_chatgpt(messages):\n",
    "  response = client.chat.completions.create(\n",
    "    model=\"gpt-3.5-turbo\", messages=messages\n",
    "  )\n",
    "  return response.choices[0].message.content\n",
    "\n",
    "\n",
    "prompt_role = \"You are an assistant for journalists. \\\n",
    "    Your task is to write articles, based on the FACTS that are given to you. \\\n",
    "    You should respect the instructions: the TONE, the LENGTH, and the STYLE\"\n",
    "\n",
    "\n",
    "from typing import List\n",
    "def assist_journalist(\n",
    "  facts: List[str], tone: str, length_words: int, style: str\n",
    "):\n",
    "  facts = \", \".join(facts)\n",
    "  prompt_role = \"You are an assistant for journalists\"\n",
    "  prompt = f\"{prompt_role} \\\n",
    "    FACTS: {facts} \\\n",
    "    TONE: {tone} \\\n",
    "    LENGTH: {length_words} words \\\n",
    "    STYLE: {style}\"\n",
    "  return ask_chatgpt([{\"role\": \"user\", \"content\": prompt}])\n",
    "\n",
    "\n",
    "print(\n",
    "  assist_journalist(\n",
    "    [\"The sky is blue\", \"The grass is green\"], \"informal\", 100, \"blogpost\"\n",
    "  )\n",
    ")"
   ]
  },
  {
   "cell_type": "markdown",
   "id": "24b6e4a4-5afa-45f4-bc3d-f9a4a3bd767b",
   "metadata": {},
   "source": [
    "- ''.join(리스트)''.join(리스트)를 이용하면 매개변수로 들어온 ['a', 'b', 'c'] 이런 식의 리스트를 'abc'의 문자열로 합쳐서 반환해주는 함수인 것입니다."
   ]
  },
  {
   "cell_type": "code",
   "execution_count": 59,
   "id": "649bcdc1-5707-45d2-93fa-6f002e2eb4d7",
   "metadata": {},
   "outputs": [
    {
     "name": "stdout",
     "output_type": "stream",
     "text": [
      "Exciting news for tech enthusiasts! A new book on ChatGpt has hit the shelves titled \"Developing Apps with GPT-4 and CHATGPT.\" Published by O'Reilly, this book is a must-have for anyone looking to explore the potential of this cutting-edge technology. Grab your copy now and stay ahead of the curve!\n"
     ]
    }
   ],
   "source": [
    "print(\n",
    "    assist_journalist(\n",
    "        facts = [\n",
    "            \"A book on ChatGpt has been published last week\",\n",
    "            \"The title is Developing Apps with GPT-4 and CHATGPT\",\n",
    "            \"The publisher is O'Reilly.\", ],\n",
    "        tone = \"excited\",\n",
    "        length_words = 50,\n",
    "        style = \"news flash\",))"
   ]
  },
  {
   "cell_type": "code",
   "execution_count": 60,
   "id": "f7fc1f3f-5d65-4df0-9b82-009fae49f965",
   "metadata": {},
   "outputs": [
    {
     "name": "stdout",
     "output_type": "stream",
     "text": [
      "Elon Musk, an influential entrepreneur known for popularizing electric vehicles and working on various projects like reusable rockets, neural technology, high-speed trains, and satellite systems aiding Ukraine, appeared as a guest on a show. During his interview, he discussed his busy schedule and multiple initiatives, including his extensive workdays.\n",
      "\n",
      "Despite attacks from critics, Musk maintains a sense of humor and highlights the importance of humor and humility. The conversation touched on the significance of innovators in tech shaping the world, the role of technology in civilization, the value of free speech, and the danger of 'woke' culture suppressing freedom of expression and promoting anti-meritocracy.\n",
      "\n",
      "Musk also shared his thoughts on education and the spread of misinformation, pointing out gaps in knowledge and awareness among the younger generation. Elon and the host discussed AI's potential threat to humanity and the importance of regulatory oversight to prevent companies from creating dangerous AI systems.\n",
      "\n",
      "The conversation then shifted to Musk's ideas about civilization, resource sustainability, and the potential dangers of advancing AI without proper controls. They conversed about Musk's perspective on happiness, which he links to being in love and loving one's work. Lastly, they spoke about Musk's acquisition of Twitter, his efforts to stabilize the platform, and expose government-driven censorship, and the pushback he faced as a public figure.\n",
      "\n",
      "Musk's underlying message throughout was the importance of safeguarding free speech and encouraging a broad spectrum of ideas in a digital \"Town Square\" for the betterment of society and the future of civilization.\n"
     ]
    }
   ],
   "source": [
    "with open(\"trans.txt\", \"r\") as f:\n",
    "    transcript = f.read()\n",
    "\n",
    "response = client.chat.completions.create(\n",
    "    model = \"gpt-4-1106-preview\",\n",
    "    messages = [\n",
    "        {\"role\":\"system\",\"content\":\"You are a helpful assistant.\"},\n",
    "        {\"role\":\"user\",\"content\":\"Summarize the following text\"},\n",
    "        {\"role\":\"assistant\",\"content\":\"Yes.\"},\n",
    "        {\"role\":\"user\",\"content\":transcript}],)\n",
    "print(response.choices[0].message.content)"
   ]
  },
  {
   "cell_type": "code",
   "execution_count": 61,
   "id": "c1c45671-2b88-4238-aaba-f475981b2602",
   "metadata": {},
   "outputs": [],
   "source": [
    "class DataService():\n",
    "    def __init__(self):\n",
    "        self.redis_client = redis.Redis(\n",
    "            host= REDIS_HOST,\n",
    "            port=REDIS_PORT,\n",
    "            password = REDIS_PASSWORD)"
   ]
  },
  {
   "cell_type": "code",
   "execution_count": 62,
   "id": "bc1d9369-5c95-4b79-a246-eb189d1ff54d",
   "metadata": {},
   "outputs": [],
   "source": [
    "def pdf_to_embeddings(self, pdf_path: str, chunk_length: int = 1000):\n",
    "# PDF 파일에서 데이터를 읽고 여러 부분으로 분할\n",
    "    reader = PdfReader(pdf_path)\n",
    "    chunks = []\n",
    "    for page in reader.pages:\n",
    "        text_page = page.extract_text()\n",
    "        chunks.extend([text_page[i:i+chunk_length]\n",
    "            for i in range(0, len(text_page), chunk_length)])\n",
    "# 임베딩 생성\n",
    "    response = client.embeddings.create(model='text-embedding-ada-002',\n",
    "    input=chunks)\n",
    "    return [{'id': value['index'],\n",
    "    'vector':value['embedding'],\n",
    "    'text':chunks[value['index']]} for value in response['choices']]\n"
   ]
  },
  {
   "cell_type": "code",
   "execution_count": 63,
   "id": "bf671ffd-a03a-499b-a85c-b789ddb22ae3",
   "metadata": {},
   "outputs": [],
   "source": [
    "def load_data_to_redis(self, embeddings):\n",
    "  for embedding in embeddings:\n",
    "      key = f\"{PREFIX}:{str(embedding['id'])}\"\n",
    "      embedding[\"vector\"] = np.array(\n",
    "          embedding[\"vector\"], dtype=np.float32).tobytes()\n",
    "      self.redis_client.hset(key, mapping=embedding)"
   ]
  },
  {
   "cell_type": "code",
   "execution_count": 64,
   "id": "9274d2f4-2e3f-41a4-a7af-12ba3fc45515",
   "metadata": {},
   "outputs": [],
   "source": [
    "def search_redis(self,user_query: str):\n",
    "# 사용자 쿼리에서 임베딩 벡터 생성\n",
    "    embedded_query = client.embeddings.create(\n",
    "      input=user_query,\n",
    "      model=\"text-embedding-ada-002\")[\"data\"][0]['embedding']\n",
    "\n",
    "# 벡터 검색 수행\n",
    "    results = self.redis_client.ft(index_name).search(query, params_dict)\n",
    "    return [doc['text'] for doc in results.docs]"
   ]
  },
  {
   "cell_type": "code",
   "execution_count": 65,
   "id": "abf49792-599e-49c6-8712-ea2b0247b1ba",
   "metadata": {},
   "outputs": [],
   "source": [
    "class IntentService():\n",
    "  def __init__(self):\n",
    "    pass\n",
    "  def get_intent(self, user_question: str):\n",
    "      # 오픈AI 채팅 완성 엔드포인트 호출\n",
    "      response = client.chat.completions.create(\n",
    "          model=\"gpt-3.5-turbo\",\n",
    "          messages=[\n",
    "              {\"role\": \"user\",\n",
    "               \"content\": f\"\"\"Extract the keywords from the following\n",
    "                question: {user_question}.\"\"\"}\n",
    "          ]\n",
    "      )\n",
    "      # 응답 추출\n",
    "      return (response.choices[0].message.content)\n"
   ]
  },
  {
   "cell_type": "code",
   "execution_count": 66,
   "id": "5969a727-ea3c-485c-855a-76dc2cfab70c",
   "metadata": {},
   "outputs": [],
   "source": [
    "class ResponseService():\n",
    "  def __init__(self):\n",
    "    pass\n",
    "  def generate_response(self, facts, user_question):\n",
    "      # 오픈AI 채팅 완성 엔드포인트 호출\n",
    "      response = client.chat.completions.create(\n",
    "          model=\"gpt-3.5-turbo\",\n",
    "          messages=[\n",
    "                {\"role\": \"user\",\n",
    "                 \"content\": f\"\"\"Based on the FACTS, answer the QUESTION.\n",
    "                  QUESTION: {user_question}. FACTS: {facts}\"\"\"}\n",
    "          ]\n",
    "      )\n",
    "      # 응답 추출\n",
    "      return (response.choices[0].message.content)\n",
    "\n"
   ]
  },
  {
   "cell_type": "code",
   "execution_count": 69,
   "id": "bfca8c4c-7c05-413c-b88b-e69cbacde188",
   "metadata": {},
   "outputs": [],
   "source": [
    "def run(question: str, file: str='ExplorersGuide.pdf'):\n",
    "    data_service = DataService()\n",
    "    data = data_service.pdf_to_embeddings(file)\n",
    "    data_service.load_data_to_redis(data)\n"
   ]
  },
  {
   "cell_type": "code",
   "execution_count": null,
   "id": "8b87c3c3-46a3-4e19-b41c-14b52e60488a",
   "metadata": {},
   "outputs": [],
   "source": []
  }
 ],
 "metadata": {
  "kernelspec": {
   "display_name": "Python 3 (ipykernel)",
   "language": "python",
   "name": "python3"
  },
  "language_info": {
   "codemirror_mode": {
    "name": "ipython",
    "version": 3
   },
   "file_extension": ".py",
   "mimetype": "text/x-python",
   "name": "python",
   "nbconvert_exporter": "python",
   "pygments_lexer": "ipython3",
   "version": "3.12.1"
  }
 },
 "nbformat": 4,
 "nbformat_minor": 5
}
