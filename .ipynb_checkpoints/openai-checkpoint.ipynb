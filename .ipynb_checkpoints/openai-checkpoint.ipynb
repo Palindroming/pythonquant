{
 "cells": [
  {
   "cell_type": "code",
   "execution_count": 12,
   "id": "4455fc23-ff2f-4aa4-a55e-1818c432322b",
   "metadata": {},
   "outputs": [
    {
     "name": "stdout",
     "output_type": "stream",
     "text": [
      "Requirement already satisfied: openai in /Library/Frameworks/Python.framework/Versions/3.12/lib/python3.12/site-packages (1.11.1)\n",
      "Collecting openai\n",
      "  Downloading openai-1.12.0-py3-none-any.whl.metadata (18 kB)\n",
      "Requirement already satisfied: anyio<5,>=3.5.0 in /Library/Frameworks/Python.framework/Versions/3.12/lib/python3.12/site-packages (from openai) (4.2.0)\n",
      "Requirement already satisfied: distro<2,>=1.7.0 in /Library/Frameworks/Python.framework/Versions/3.12/lib/python3.12/site-packages (from openai) (1.9.0)\n",
      "Requirement already satisfied: httpx<1,>=0.23.0 in /Library/Frameworks/Python.framework/Versions/3.12/lib/python3.12/site-packages (from openai) (0.26.0)\n",
      "Requirement already satisfied: pydantic<3,>=1.9.0 in /Library/Frameworks/Python.framework/Versions/3.12/lib/python3.12/site-packages (from openai) (2.6.1)\n",
      "Requirement already satisfied: sniffio in /Library/Frameworks/Python.framework/Versions/3.12/lib/python3.12/site-packages (from openai) (1.3.0)\n",
      "Requirement already satisfied: tqdm>4 in /Library/Frameworks/Python.framework/Versions/3.12/lib/python3.12/site-packages (from openai) (4.66.1)\n",
      "Requirement already satisfied: typing-extensions<5,>=4.7 in /Library/Frameworks/Python.framework/Versions/3.12/lib/python3.12/site-packages (from openai) (4.9.0)\n",
      "Requirement already satisfied: idna>=2.8 in /Library/Frameworks/Python.framework/Versions/3.12/lib/python3.12/site-packages (from anyio<5,>=3.5.0->openai) (3.6)\n",
      "Requirement already satisfied: certifi in /Library/Frameworks/Python.framework/Versions/3.12/lib/python3.12/site-packages (from httpx<1,>=0.23.0->openai) (2023.11.17)\n",
      "Requirement already satisfied: httpcore==1.* in /Library/Frameworks/Python.framework/Versions/3.12/lib/python3.12/site-packages (from httpx<1,>=0.23.0->openai) (1.0.2)\n",
      "Requirement already satisfied: h11<0.15,>=0.13 in /Library/Frameworks/Python.framework/Versions/3.12/lib/python3.12/site-packages (from httpcore==1.*->httpx<1,>=0.23.0->openai) (0.14.0)\n",
      "Requirement already satisfied: annotated-types>=0.4.0 in /Library/Frameworks/Python.framework/Versions/3.12/lib/python3.12/site-packages (from pydantic<3,>=1.9.0->openai) (0.6.0)\n",
      "Requirement already satisfied: pydantic-core==2.16.2 in /Library/Frameworks/Python.framework/Versions/3.12/lib/python3.12/site-packages (from pydantic<3,>=1.9.0->openai) (2.16.2)\n",
      "Downloading openai-1.12.0-py3-none-any.whl (226 kB)\n",
      "\u001b[2K   \u001b[90m━━━━━━━━━━━━━━━━━━━━━━━━━━━━━━━━━━━━━━━━\u001b[0m \u001b[32m226.7/226.7 kB\u001b[0m \u001b[31m5.0 MB/s\u001b[0m eta \u001b[36m0:00:00\u001b[0m00:01\u001b[0m\n",
      "\u001b[?25hInstalling collected packages: openai\n",
      "  Attempting uninstall: openai\n",
      "    Found existing installation: openai 1.11.1\n",
      "    Uninstalling openai-1.11.1:\n",
      "      Successfully uninstalled openai-1.11.1\n",
      "Successfully installed openai-1.12.0\n",
      "\n",
      "\u001b[1m[\u001b[0m\u001b[34;49mnotice\u001b[0m\u001b[1;39;49m]\u001b[0m\u001b[39;49m A new release of pip is available: \u001b[0m\u001b[31;49m23.3.2\u001b[0m\u001b[39;49m -> \u001b[0m\u001b[32;49m24.0\u001b[0m\n",
      "\u001b[1m[\u001b[0m\u001b[34;49mnotice\u001b[0m\u001b[1;39;49m]\u001b[0m\u001b[39;49m To update, run: \u001b[0m\u001b[32;49mpip install --upgrade pip\u001b[0m\n",
      "Note: you may need to restart the kernel to use updated packages.\n"
     ]
    }
   ],
   "source": [
    "pip install openai --upgrade"
   ]
  },
  {
   "cell_type": "code",
   "execution_count": 2,
   "id": "3bed3765-8511-4b9e-bee6-127e6f700fd8",
   "metadata": {},
   "outputs": [
    {
     "name": "stdout",
     "output_type": "stream",
     "text": [
      "OpenAI version is compatible.\n"
     ]
    }
   ],
   "source": [
    "import openai\n",
    "from packaging import version\n",
    "\n",
    "required_version = version.parse(\"1.1.1\")\n",
    "current_version = version.parse(openai.__version__)\n",
    "\n",
    "if current_version < required_version:\n",
    "    raise ValueError(f\"Error: OpenAI version {openai.__version__}\"\n",
    "                     \" is less than the required version 1.1.1\")\n",
    "else:\n",
    "    print(\"OpenAI version is compatible.\")\n",
    "\n",
    "# -- Now we can get to it\n",
    "from openai import OpenAI\n",
    "client = OpenAI(api_key=\"sk-xxx\")"
   ]
  },
  {
   "cell_type": "code",
   "execution_count": 15,
   "id": "f085ca04-a7c0-435c-a4b5-e4a2a841d17d",
   "metadata": {},
   "outputs": [
    {
     "name": "stdout",
     "output_type": "stream",
     "text": [
      "Hey there! As an assistant for journalists, I want to make sure you have all the facts ready to go for your next story. Did you know that the sky is blue and the grass is green? These may seem like simple facts, but they can add depth and context to your reporting. Whether you're covering a story about nature, weather, or even just setting the scene for a feature piece, knowing these basic facts can help you paint a vivid picture for your readers. So next time you're working on a story, remember these simple truths and watch your writing come to life!\n"
     ]
    }
   ],
   "source": [
    "from openai import OpenAI\n",
    "client = OpenAI(api_key=\"\")\n",
    "def ask_chatgpt(messages):\n",
    "  response = client.chat.completions.create(\n",
    "    model=\"gpt-3.5-turbo\", messages=messages\n",
    "  )\n",
    "  return response.choices[0].message.content\n",
    "\n",
    "\n",
    "prompt_role = \"You are an assistant for journalists. \\\n",
    "    Your task is to write articles, based on the FACTS that are given to you. \\\n",
    "    You should respect the instructions: the TONE, the LENGTH, and the STYLE\"\n",
    "\n",
    "\n",
    "from typing import List\n",
    "def assist_journalist(\n",
    "  facts: List[str], tone: str, length_words: int, style: str\n",
    "):\n",
    "  facts = \", \".join(facts)\n",
    "  prompt_role = \"You are an assistant for journalists\"\n",
    "  prompt = f\"{prompt_role} \\\n",
    "    FACTS: {facts} \\\n",
    "    TONE: {tone} \\\n",
    "    LENGTH: {length_words} words \\\n",
    "    STYLE: {style}\"\n",
    "  return ask_chatgpt([{\"role\": \"user\", \"content\": prompt}])\n",
    "\n",
    "\n",
    "print(\n",
    "  assist_journalist(\n",
    "    [\"The sky is blue\", \"The grass is green\"], \"informal\", 100, \"blogpost\"\n",
    "  )\n",
    ")"
   ]
  },
  {
   "cell_type": "markdown",
   "id": "24b6e4a4-5afa-45f4-bc3d-f9a4a3bd767b",
   "metadata": {},
   "source": [
    "- ''.join(리스트)''.join(리스트)를 이용하면 매개변수로 들어온 ['a', 'b', 'c'] 이런 식의 리스트를 'abc'의 문자열로 합쳐서 반환해주는 함수인 것입니다."
   ]
  },
  {
   "cell_type": "code",
   "execution_count": 16,
   "id": "649bcdc1-5707-45d2-93fa-6f002e2eb4d7",
   "metadata": {},
   "outputs": [
    {
     "name": "stdout",
     "output_type": "stream",
     "text": [
      "Exciting news for tech enthusiasts! A new book on ChatGPT has just been released by O'Reilly. Titled \"Developing Apps with GPT-4 and CHATGPT\", this publication is a must-have for anyone interested in leveraging the power of AI in app development. Get your copy now and stay ahead of the curve!\n"
     ]
    }
   ],
   "source": [
    "print(\n",
    "    assist_journalist(\n",
    "        facts = [\n",
    "            \"A book on ChatGpt has been published last week\",\n",
    "            \"The title is Developing Apps with GPT-4 and CHATGPT\",\n",
    "            \"The publisher is O'Reilly.\", ],\n",
    "        tone = \"excited\",\n",
    "        length_words = 50,\n",
    "        style = \"news flash\",))"
   ]
  },
  {
   "cell_type": "code",
   "execution_count": 17,
   "id": "f7fc1f3f-5d65-4df0-9b82-009fae49f965",
   "metadata": {},
   "outputs": [
    {
     "name": "stdout",
     "output_type": "stream",
     "text": [
      "The text is an interview, primarily featuring Elon Musk as the guest, discussing his various ventures and views. Musk is credited with popularizing electric cars and working on projects ranging from reusable rockets and space travel, connecting the human brain to computers, developing high-speed transportation systems like the Hyperloop, and the Starlink satellite system that's aiding Ukraine in the war. The interview touches on issues ranging from technology's impact on civilization, free speech and the so-called \"woke mind virus\", concerns about artificial intelligence, to personal happiness and love. Musk and the interviewer, presumably Bill Maher given the references to his show and audience, also discuss Twitter as a \"digital Town Square\" and its associated challenges, such as censorship and government interference. Musk's acquisition of Twitter and his efforts to course-correct its financial trajectory are briefly mentioned. The conversation emphasizes the importance of free speech, Musk's desire for a regulatory body overseeing AI, and the need for broad tech awareness to aid against civilizational decline.\n"
     ]
    }
   ],
   "source": [
    "with open(\"trans.txt\", \"r\") as f:\n",
    "    transcript = f.read()\n",
    "\n",
    "response = client.chat.completions.create(\n",
    "    model = \"gpt-4-1106-preview\",\n",
    "    messages = [\n",
    "        {\"role\":\"system\",\"content\":\"You are a helpful assistant.\"},\n",
    "        {\"role\":\"user\",\"content\":\"Summarize the following text\"},\n",
    "        {\"role\":\"assistant\",\"content\":\"Yes.\"},\n",
    "        {\"role\":\"user\",\"content\":transcript}],)\n",
    "print(response.choices[0].message.content)"
   ]
  },
  {
   "cell_type": "code",
   "execution_count": 18,
   "id": "c1c45671-2b88-4238-aaba-f475981b2602",
   "metadata": {},
   "outputs": [],
   "source": [
    "class DataService():\n",
    "    def __init__(self):\n",
    "        self.redis_client = redis.Redis(\n",
    "            host= REDIS_HOST,\n",
    "            port=REDIS_PORT,\n",
    "            password = REDIS_PASSWORD)"
   ]
  },
  {
   "cell_type": "code",
   "execution_count": null,
   "id": "bc1d9369-5c95-4b79-a246-eb189d1ff54d",
   "metadata": {},
   "outputs": [],
   "source": []
  }
 ],
 "metadata": {
  "kernelspec": {
   "display_name": "Python 3 (ipykernel)",
   "language": "python",
   "name": "python3"
  },
  "language_info": {
   "codemirror_mode": {
    "name": "ipython",
    "version": 3
   },
   "file_extension": ".py",
   "mimetype": "text/x-python",
   "name": "python",
   "nbconvert_exporter": "python",
   "pygments_lexer": "ipython3",
   "version": "3.12.1"
  }
 },
 "nbformat": 4,
 "nbformat_minor": 5
}
